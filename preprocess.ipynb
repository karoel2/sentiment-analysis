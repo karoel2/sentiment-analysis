{
 "cells": [
  {
   "cell_type": "code",
   "execution_count": 17,
   "metadata": {},
   "outputs": [],
   "source": [
    "import pandas as pd\n",
    "import numpy as np\n",
    "import nltk\n",
    "import itertools"
   ]
  },
  {
   "cell_type": "code",
   "execution_count": 18,
   "metadata": {},
   "outputs": [],
   "source": [
    "import re\n",
    "def preprocess(line):\n",
    "    temp = line.split(',')[5:]\n",
    "    temp = [text[1:-2] for text in temp]\n",
    "    temp = ''.join(temp[:][0:2])\n",
    "    temp = temp.lower()\n",
    "    \n",
    "    txt = temp\n",
    "    txt = re.sub('@\\S*', '', txt)\n",
    "    txt = re.sub('\\S*://\\S*', '', txt)\n",
    "    txt = re.sub('http:\\S*', '', txt)\n",
    "    txt = re.sub('(£|§|!|@|#|\\$|%|\\^|&|\\*|\\(|\\)|_|-|\\+|=|\\{|\\[|\\}|\\]|:|;|\"|\\'|\\|\\\\|\\<|,|\\>|\\.|\\?|/|~|`|\\|)', '', txt)\n",
    "    txt = re.sub('\\d+', '', txt)\n",
    "    txt = re.sub('^\\s*', '', txt)\n",
    "    txt = re.sub('\\s+', ' ', txt)\n",
    "    return txt"
   ]
  },
  {
   "cell_type": "code",
   "execution_count": 29,
   "metadata": {},
   "outputs": [],
   "source": [
    "i=0\n",
    "with open('data.csv') as data:\n",
    "    with open('tok.csv', 'w') as tok:\n",
    "        tok.write('\"target\",\"txt\"\\n')\n",
    "        for line in data:\n",
    "            txt = preprocess(line)\n",
    "            if len(txt) == 0:\n",
    "                pass\n",
    "            else:\n",
    "                value = line.split(',')[0]\n",
    "                value = value.replace('\"','')\n",
    "                if int(value) == 4:\n",
    "                    value = 1\n",
    "                else:\n",
    "                    value = 0\n",
    "                value = f'\"{value}\"'\n",
    "                out = f'{value},\"{txt}\"\\n'\n",
    "                tok.write(out)"
   ]
  },
  {
   "cell_type": "code",
   "execution_count": 24,
   "metadata": {},
   "outputs": [],
   "source": [
    "vocab = []\n",
    "for key, value in all_words.most_common(15000):\n",
    "    vocab.append(key)"
   ]
  },
  {
   "cell_type": "code",
   "execution_count": null,
   "metadata": {},
   "outputs": [],
   "source": [
    "print(f'avg lenght {leng/count}')\n",
    "print(f'empty {empty}')\n",
    "print(f'empty% {empty/count}')\n",
    "print(f'longer than 25 {th}')\n",
    "print(f'longer% {th/count}')"
   ]
  }
 ],
 "metadata": {
  "kernelspec": {
   "display_name": "Python 3",
   "language": "python",
   "name": "python3"
  },
  "language_info": {
   "codemirror_mode": {
    "name": "ipython",
    "version": 3
   },
   "file_extension": ".py",
   "mimetype": "text/x-python",
   "name": "python",
   "nbconvert_exporter": "python",
   "pygments_lexer": "ipython3",
   "version": "3.7.8"
  }
 },
 "nbformat": 4,
 "nbformat_minor": 4
}
